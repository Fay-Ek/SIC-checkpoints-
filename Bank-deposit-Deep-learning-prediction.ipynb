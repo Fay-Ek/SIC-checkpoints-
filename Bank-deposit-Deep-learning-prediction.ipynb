{
 "cells": [
  {
   "cell_type": "code",
   "execution_count": 37,
   "id": "88fecd00",
   "metadata": {},
   "outputs": [],
   "source": [
    "import pandas as pd\n",
    "import numpy as np\n",
    "import matplotlib.pyplot as plt\n",
    "from tensorflow.keras.layers import Dense, Dropout,Flatten\n",
    "from keras.models import Sequential\n",
    "from sklearn.model_selection import train_test_split\n",
    "from tensorflow.keras.utils import to_categorical\n",
    "from sklearn.preprocessing import LabelEncoder\n",
    "from sklearn import preprocessing\n",
    "import seaborn as sns"
   ]
  },
  {
   "cell_type": "code",
   "execution_count": 4,
   "id": "b4f0f682",
   "metadata": {},
   "outputs": [],
   "source": [
    "data = pd.read_csv('bank.csv')"
   ]
  },
  {
   "cell_type": "code",
   "execution_count": 6,
   "id": "98bb02ab",
   "metadata": {},
   "outputs": [
    {
     "data": {
      "text/plain": [
       "array(['yes', 'no'], dtype=object)"
      ]
     },
     "execution_count": 6,
     "metadata": {},
     "output_type": "execute_result"
    }
   ],
   "source": [
    "data['deposit'].unique()"
   ]
  },
  {
   "cell_type": "code",
   "execution_count": 7,
   "id": "f6099097",
   "metadata": {},
   "outputs": [
    {
     "data": {
      "text/html": [
       "<div>\n",
       "<style scoped>\n",
       "    .dataframe tbody tr th:only-of-type {\n",
       "        vertical-align: middle;\n",
       "    }\n",
       "\n",
       "    .dataframe tbody tr th {\n",
       "        vertical-align: top;\n",
       "    }\n",
       "\n",
       "    .dataframe thead th {\n",
       "        text-align: right;\n",
       "    }\n",
       "</style>\n",
       "<table border=\"1\" class=\"dataframe\">\n",
       "  <thead>\n",
       "    <tr style=\"text-align: right;\">\n",
       "      <th></th>\n",
       "      <th>age</th>\n",
       "      <th>job</th>\n",
       "      <th>marital</th>\n",
       "      <th>education</th>\n",
       "      <th>default</th>\n",
       "      <th>balance</th>\n",
       "      <th>housing</th>\n",
       "      <th>loan</th>\n",
       "      <th>contact</th>\n",
       "      <th>day</th>\n",
       "      <th>month</th>\n",
       "      <th>duration</th>\n",
       "      <th>campaign</th>\n",
       "      <th>pdays</th>\n",
       "      <th>previous</th>\n",
       "      <th>poutcome</th>\n",
       "      <th>deposit</th>\n",
       "    </tr>\n",
       "  </thead>\n",
       "  <tbody>\n",
       "    <tr>\n",
       "      <th>0</th>\n",
       "      <td>59</td>\n",
       "      <td>admin.</td>\n",
       "      <td>married</td>\n",
       "      <td>secondary</td>\n",
       "      <td>no</td>\n",
       "      <td>2343</td>\n",
       "      <td>yes</td>\n",
       "      <td>no</td>\n",
       "      <td>unknown</td>\n",
       "      <td>5</td>\n",
       "      <td>may</td>\n",
       "      <td>1042</td>\n",
       "      <td>1</td>\n",
       "      <td>-1</td>\n",
       "      <td>0</td>\n",
       "      <td>unknown</td>\n",
       "      <td>yes</td>\n",
       "    </tr>\n",
       "    <tr>\n",
       "      <th>1</th>\n",
       "      <td>56</td>\n",
       "      <td>admin.</td>\n",
       "      <td>married</td>\n",
       "      <td>secondary</td>\n",
       "      <td>no</td>\n",
       "      <td>45</td>\n",
       "      <td>no</td>\n",
       "      <td>no</td>\n",
       "      <td>unknown</td>\n",
       "      <td>5</td>\n",
       "      <td>may</td>\n",
       "      <td>1467</td>\n",
       "      <td>1</td>\n",
       "      <td>-1</td>\n",
       "      <td>0</td>\n",
       "      <td>unknown</td>\n",
       "      <td>yes</td>\n",
       "    </tr>\n",
       "    <tr>\n",
       "      <th>2</th>\n",
       "      <td>41</td>\n",
       "      <td>technician</td>\n",
       "      <td>married</td>\n",
       "      <td>secondary</td>\n",
       "      <td>no</td>\n",
       "      <td>1270</td>\n",
       "      <td>yes</td>\n",
       "      <td>no</td>\n",
       "      <td>unknown</td>\n",
       "      <td>5</td>\n",
       "      <td>may</td>\n",
       "      <td>1389</td>\n",
       "      <td>1</td>\n",
       "      <td>-1</td>\n",
       "      <td>0</td>\n",
       "      <td>unknown</td>\n",
       "      <td>yes</td>\n",
       "    </tr>\n",
       "    <tr>\n",
       "      <th>3</th>\n",
       "      <td>55</td>\n",
       "      <td>services</td>\n",
       "      <td>married</td>\n",
       "      <td>secondary</td>\n",
       "      <td>no</td>\n",
       "      <td>2476</td>\n",
       "      <td>yes</td>\n",
       "      <td>no</td>\n",
       "      <td>unknown</td>\n",
       "      <td>5</td>\n",
       "      <td>may</td>\n",
       "      <td>579</td>\n",
       "      <td>1</td>\n",
       "      <td>-1</td>\n",
       "      <td>0</td>\n",
       "      <td>unknown</td>\n",
       "      <td>yes</td>\n",
       "    </tr>\n",
       "    <tr>\n",
       "      <th>4</th>\n",
       "      <td>54</td>\n",
       "      <td>admin.</td>\n",
       "      <td>married</td>\n",
       "      <td>tertiary</td>\n",
       "      <td>no</td>\n",
       "      <td>184</td>\n",
       "      <td>no</td>\n",
       "      <td>no</td>\n",
       "      <td>unknown</td>\n",
       "      <td>5</td>\n",
       "      <td>may</td>\n",
       "      <td>673</td>\n",
       "      <td>2</td>\n",
       "      <td>-1</td>\n",
       "      <td>0</td>\n",
       "      <td>unknown</td>\n",
       "      <td>yes</td>\n",
       "    </tr>\n",
       "  </tbody>\n",
       "</table>\n",
       "</div>"
      ],
      "text/plain": [
       "   age         job  marital  education default  balance housing loan  contact  \\\n",
       "0   59      admin.  married  secondary      no     2343     yes   no  unknown   \n",
       "1   56      admin.  married  secondary      no       45      no   no  unknown   \n",
       "2   41  technician  married  secondary      no     1270     yes   no  unknown   \n",
       "3   55    services  married  secondary      no     2476     yes   no  unknown   \n",
       "4   54      admin.  married   tertiary      no      184      no   no  unknown   \n",
       "\n",
       "   day month  duration  campaign  pdays  previous poutcome deposit  \n",
       "0    5   may      1042         1     -1         0  unknown     yes  \n",
       "1    5   may      1467         1     -1         0  unknown     yes  \n",
       "2    5   may      1389         1     -1         0  unknown     yes  \n",
       "3    5   may       579         1     -1         0  unknown     yes  \n",
       "4    5   may       673         2     -1         0  unknown     yes  "
      ]
     },
     "execution_count": 7,
     "metadata": {},
     "output_type": "execute_result"
    }
   ],
   "source": [
    "data.head()"
   ]
  },
  {
   "cell_type": "code",
   "execution_count": 20,
   "id": "bf61f09e",
   "metadata": {},
   "outputs": [
    {
     "data": {
      "text/plain": [
       "age          0\n",
       "job          0\n",
       "marital      0\n",
       "education    0\n",
       "default      0\n",
       "balance      0\n",
       "housing      0\n",
       "loan         0\n",
       "contact      0\n",
       "day          0\n",
       "month        0\n",
       "duration     0\n",
       "campaign     0\n",
       "pdays        0\n",
       "previous     0\n",
       "poutcome     0\n",
       "deposit      0\n",
       "dtype: int64"
      ]
     },
     "execution_count": 20,
     "metadata": {},
     "output_type": "execute_result"
    }
   ],
   "source": [
    "data.isnull().sum()"
   ]
  },
  {
   "cell_type": "code",
   "execution_count": 22,
   "id": "3930329f",
   "metadata": {},
   "outputs": [
    {
     "name": "stdout",
     "output_type": "stream",
     "text": [
      "<class 'pandas.core.frame.DataFrame'>\n",
      "RangeIndex: 11162 entries, 0 to 11161\n",
      "Data columns (total 17 columns):\n",
      " #   Column     Non-Null Count  Dtype \n",
      "---  ------     --------------  ----- \n",
      " 0   age        11162 non-null  int64 \n",
      " 1   job        11162 non-null  object\n",
      " 2   marital    11162 non-null  object\n",
      " 3   education  11162 non-null  object\n",
      " 4   default    11162 non-null  object\n",
      " 5   balance    11162 non-null  int64 \n",
      " 6   housing    11162 non-null  object\n",
      " 7   loan       11162 non-null  object\n",
      " 8   contact    11162 non-null  object\n",
      " 9   day        11162 non-null  int64 \n",
      " 10  month      11162 non-null  object\n",
      " 11  duration   11162 non-null  int64 \n",
      " 12  campaign   11162 non-null  int64 \n",
      " 13  pdays      11162 non-null  int64 \n",
      " 14  previous   11162 non-null  int64 \n",
      " 15  poutcome   11162 non-null  object\n",
      " 16  deposit    11162 non-null  object\n",
      "dtypes: int64(7), object(10)\n",
      "memory usage: 1.4+ MB\n"
     ]
    }
   ],
   "source": [
    "data.info()"
   ]
  },
  {
   "cell_type": "code",
   "execution_count": 23,
   "id": "bf58604f",
   "metadata": {},
   "outputs": [],
   "source": [
    "labelencoder = LabelEncoder()\n",
    "data[\"job\"] = labelencoder.fit_transform(data[\"job\"])\n",
    "labelencoder = LabelEncoder()\n",
    "data[\"marital\"] = labelencoder.fit_transform(data[\"marital\"])\n",
    "labelencoder = LabelEncoder()\n",
    "data[\"education\"] = labelencoder.fit_transform(data[\"education\"])\n",
    "labelencoder = LabelEncoder()\n",
    "data[\"default\"] = labelencoder.fit_transform(data[\"default\"])\n",
    "labelencoder = LabelEncoder()\n",
    "data[\"housing\"] = labelencoder.fit_transform(data[\"housing\"])\n",
    "labelencoder = LabelEncoder()\n",
    "data[\"loan\"] = labelencoder.fit_transform(data[\"loan\"])\n",
    "labelencoder = LabelEncoder()\n",
    "data[\"contact\"] = labelencoder.fit_transform(data[\"contact\"])\n",
    "labelencoder = LabelEncoder()\n",
    "data[\"month\"] = labelencoder.fit_transform(data[\"month\"])\n",
    "labelencoder = LabelEncoder()\n",
    "data[\"poutcome\"] = labelencoder.fit_transform(data[\"poutcome\"])\n",
    "labelencoder = LabelEncoder()\n",
    "data[\"deposit\"] = labelencoder.fit_transform(data[\"deposit\"])"
   ]
  },
  {
   "cell_type": "code",
   "execution_count": 24,
   "id": "81c2037e",
   "metadata": {},
   "outputs": [
    {
     "data": {
      "text/html": [
       "<div>\n",
       "<style scoped>\n",
       "    .dataframe tbody tr th:only-of-type {\n",
       "        vertical-align: middle;\n",
       "    }\n",
       "\n",
       "    .dataframe tbody tr th {\n",
       "        vertical-align: top;\n",
       "    }\n",
       "\n",
       "    .dataframe thead th {\n",
       "        text-align: right;\n",
       "    }\n",
       "</style>\n",
       "<table border=\"1\" class=\"dataframe\">\n",
       "  <thead>\n",
       "    <tr style=\"text-align: right;\">\n",
       "      <th></th>\n",
       "      <th>age</th>\n",
       "      <th>job</th>\n",
       "      <th>marital</th>\n",
       "      <th>education</th>\n",
       "      <th>default</th>\n",
       "      <th>balance</th>\n",
       "      <th>housing</th>\n",
       "      <th>loan</th>\n",
       "      <th>contact</th>\n",
       "      <th>day</th>\n",
       "      <th>month</th>\n",
       "      <th>duration</th>\n",
       "      <th>campaign</th>\n",
       "      <th>pdays</th>\n",
       "      <th>previous</th>\n",
       "      <th>poutcome</th>\n",
       "      <th>deposit</th>\n",
       "    </tr>\n",
       "  </thead>\n",
       "  <tbody>\n",
       "    <tr>\n",
       "      <th>0</th>\n",
       "      <td>59</td>\n",
       "      <td>0</td>\n",
       "      <td>1</td>\n",
       "      <td>1</td>\n",
       "      <td>0</td>\n",
       "      <td>2343</td>\n",
       "      <td>1</td>\n",
       "      <td>0</td>\n",
       "      <td>2</td>\n",
       "      <td>5</td>\n",
       "      <td>8</td>\n",
       "      <td>1042</td>\n",
       "      <td>1</td>\n",
       "      <td>-1</td>\n",
       "      <td>0</td>\n",
       "      <td>3</td>\n",
       "      <td>1</td>\n",
       "    </tr>\n",
       "    <tr>\n",
       "      <th>1</th>\n",
       "      <td>56</td>\n",
       "      <td>0</td>\n",
       "      <td>1</td>\n",
       "      <td>1</td>\n",
       "      <td>0</td>\n",
       "      <td>45</td>\n",
       "      <td>0</td>\n",
       "      <td>0</td>\n",
       "      <td>2</td>\n",
       "      <td>5</td>\n",
       "      <td>8</td>\n",
       "      <td>1467</td>\n",
       "      <td>1</td>\n",
       "      <td>-1</td>\n",
       "      <td>0</td>\n",
       "      <td>3</td>\n",
       "      <td>1</td>\n",
       "    </tr>\n",
       "    <tr>\n",
       "      <th>2</th>\n",
       "      <td>41</td>\n",
       "      <td>9</td>\n",
       "      <td>1</td>\n",
       "      <td>1</td>\n",
       "      <td>0</td>\n",
       "      <td>1270</td>\n",
       "      <td>1</td>\n",
       "      <td>0</td>\n",
       "      <td>2</td>\n",
       "      <td>5</td>\n",
       "      <td>8</td>\n",
       "      <td>1389</td>\n",
       "      <td>1</td>\n",
       "      <td>-1</td>\n",
       "      <td>0</td>\n",
       "      <td>3</td>\n",
       "      <td>1</td>\n",
       "    </tr>\n",
       "    <tr>\n",
       "      <th>3</th>\n",
       "      <td>55</td>\n",
       "      <td>7</td>\n",
       "      <td>1</td>\n",
       "      <td>1</td>\n",
       "      <td>0</td>\n",
       "      <td>2476</td>\n",
       "      <td>1</td>\n",
       "      <td>0</td>\n",
       "      <td>2</td>\n",
       "      <td>5</td>\n",
       "      <td>8</td>\n",
       "      <td>579</td>\n",
       "      <td>1</td>\n",
       "      <td>-1</td>\n",
       "      <td>0</td>\n",
       "      <td>3</td>\n",
       "      <td>1</td>\n",
       "    </tr>\n",
       "    <tr>\n",
       "      <th>4</th>\n",
       "      <td>54</td>\n",
       "      <td>0</td>\n",
       "      <td>1</td>\n",
       "      <td>2</td>\n",
       "      <td>0</td>\n",
       "      <td>184</td>\n",
       "      <td>0</td>\n",
       "      <td>0</td>\n",
       "      <td>2</td>\n",
       "      <td>5</td>\n",
       "      <td>8</td>\n",
       "      <td>673</td>\n",
       "      <td>2</td>\n",
       "      <td>-1</td>\n",
       "      <td>0</td>\n",
       "      <td>3</td>\n",
       "      <td>1</td>\n",
       "    </tr>\n",
       "  </tbody>\n",
       "</table>\n",
       "</div>"
      ],
      "text/plain": [
       "   age  job  marital  education  default  balance  housing  loan  contact  \\\n",
       "0   59    0        1          1        0     2343        1     0        2   \n",
       "1   56    0        1          1        0       45        0     0        2   \n",
       "2   41    9        1          1        0     1270        1     0        2   \n",
       "3   55    7        1          1        0     2476        1     0        2   \n",
       "4   54    0        1          2        0      184        0     0        2   \n",
       "\n",
       "   day  month  duration  campaign  pdays  previous  poutcome  deposit  \n",
       "0    5      8      1042         1     -1         0         3        1  \n",
       "1    5      8      1467         1     -1         0         3        1  \n",
       "2    5      8      1389         1     -1         0         3        1  \n",
       "3    5      8       579         1     -1         0         3        1  \n",
       "4    5      8       673         2     -1         0         3        1  "
      ]
     },
     "execution_count": 24,
     "metadata": {},
     "output_type": "execute_result"
    }
   ],
   "source": [
    "data.head()"
   ]
  },
  {
   "cell_type": "code",
   "execution_count": 29,
   "id": "ebc2ade0",
   "metadata": {},
   "outputs": [
    {
     "data": {
      "text/plain": [
       "array([2, 0, 1])"
      ]
     },
     "execution_count": 29,
     "metadata": {},
     "output_type": "execute_result"
    }
   ],
   "source": [
    "data.contact.unique()"
   ]
  },
  {
   "cell_type": "code",
   "execution_count": 32,
   "id": "13e5ad14",
   "metadata": {},
   "outputs": [
    {
     "data": {
      "image/png": "[encoded data removed]",
      "text/plain": [
       "<Figure size 576x432 with 1 Axes>"
      ]
     },
     "metadata": {},
     "output_type": "display_data"
    }
   ],
   "source": [
    "sns.set_style('darkgrid')\n",
    "plt.figure(figsize=(8, 6))\n",
    "sns.countplot(x= data.deposit)\n",
    "plt.title('Target Variable Distribution')\n",
    "plt.show()"
   ]
  },
  {
   "cell_type": "code",
   "execution_count": 34,
   "id": "0f47c3fc",
   "metadata": {},
   "outputs": [
    {
     "data": {
      "text/plain": [
       "0    0.52616\n",
       "1    0.47384\n",
       "Name: deposit, dtype: float64"
      ]
     },
     "execution_count": 34,
     "metadata": {},
     "output_type": "execute_result"
    }
   ],
   "source": [
    "data.deposit.value_counts(normalize = True)"
   ]
  },
  {
   "cell_type": "code",
   "execution_count": 42,
   "id": "635afcbc",
   "metadata": {},
   "outputs": [],
   "source": [
    "Input = data.drop(columns = ['deposit'], axis=1)\n",
    "Output = data[['deposit']]\n"
   ]
  },
  {
   "cell_type": "code",
   "execution_count": 45,
   "id": "424c360e",
   "metadata": {},
   "outputs": [],
   "source": [
    "Input_train, Input_test, Output_train, Output_test = train_test_split(Input,Output, test_size = 0.3)"
   ]
  },
  {
   "cell_type": "code",
   "execution_count": 46,
   "id": "bc6d65f8",
   "metadata": {},
   "outputs": [],
   "source": [
    "Input_train_norm = preprocessing.normalize(Input_train)\n",
    "Input_test_norm = preprocessing.normalize(Input_test)"
   ]
  },
  {
   "cell_type": "code",
   "execution_count": 47,
   "id": "1f529cad",
   "metadata": {},
   "outputs": [],
   "source": [
    "model = Sequential([\n",
    "  Dense(192, activation='relu',input_dim= 16),\n",
    "  Dense(256, activation='relu'),\n",
    "  Dense(512, activation='relu'),\n",
    "  Dense(1, activation='sigmoid')])"
   ]
  },
  {
   "cell_type": "code",
   "execution_count": 50,
   "id": "b9331f68",
   "metadata": {},
   "outputs": [],
   "source": [
    "# Compile K model.\n",
    "model.compile(\n",
    "  optimizer='adam',\n",
    "  loss='binary_crossentropy',\n",
    "  metrics=['accuracy'])"
   ]
  },
  {
   "cell_type": "code",
   "execution_count": 51,
   "id": "05ef7fe6",
   "metadata": {},
   "outputs": [
    {
     "name": "stdout",
     "output_type": "stream",
     "text": [
      "Epoch 1/50\n",
      "625/625 [==============================] - 2s 3ms/step - loss: 0.5698 - accuracy: 0.6966 - val_loss: 0.4968 - val_accuracy: 0.7620\n",
      "Epoch 2/50\n",
      "625/625 [==============================] - 2s 2ms/step - loss: 0.5203 - accuracy: 0.7410 - val_loss: 0.5014 - val_accuracy: 0.7735\n",
      "Epoch 3/50\n",
      "625/625 [==============================] - 1s 2ms/step - loss: 0.5080 - accuracy: 0.7520 - val_loss: 0.4903 - val_accuracy: 0.7742\n",
      "Epoch 4/50\n",
      "625/625 [==============================] - 2s 3ms/step - loss: 0.4991 - accuracy: 0.7533 - val_loss: 0.4889 - val_accuracy: 0.7626\n",
      "Epoch 5/50\n",
      "625/625 [==============================] - 1s 2ms/step - loss: 0.4972 - accuracy: 0.7581 - val_loss: 0.4921 - val_accuracy: 0.7722\n",
      "Epoch 6/50\n",
      "625/625 [==============================] - 1s 2ms/step - loss: 0.4895 - accuracy: 0.7658 - val_loss: 0.4812 - val_accuracy: 0.7690\n",
      "Epoch 7/50\n",
      "625/625 [==============================] - 1s 2ms/step - loss: 0.4849 - accuracy: 0.7675 - val_loss: 0.4711 - val_accuracy: 0.7825\n",
      "Epoch 8/50\n",
      "625/625 [==============================] - 1s 2ms/step - loss: 0.4859 - accuracy: 0.7650 - val_loss: 0.4717 - val_accuracy: 0.7837\n",
      "Epoch 9/50\n",
      "625/625 [==============================] - 1s 2ms/step - loss: 0.4794 - accuracy: 0.7731 - val_loss: 0.4691 - val_accuracy: 0.7786\n",
      "Epoch 10/50\n",
      "625/625 [==============================] - 1s 2ms/step - loss: 0.4790 - accuracy: 0.7686 - val_loss: 0.4863 - val_accuracy: 0.7607\n",
      "Epoch 11/50\n",
      "625/625 [==============================] - 1s 2ms/step - loss: 0.4772 - accuracy: 0.7709 - val_loss: 0.4754 - val_accuracy: 0.7799\n",
      "Epoch 12/50\n",
      "625/625 [==============================] - 1s 2ms/step - loss: 0.4720 - accuracy: 0.7738 - val_loss: 0.4705 - val_accuracy: 0.7780\n",
      "Epoch 13/50\n",
      "625/625 [==============================] - 1s 2ms/step - loss: 0.4706 - accuracy: 0.7768 - val_loss: 0.4572 - val_accuracy: 0.7793\n",
      "Epoch 14/50\n",
      "625/625 [==============================] - 2s 3ms/step - loss: 0.4689 - accuracy: 0.7730 - val_loss: 0.4599 - val_accuracy: 0.7793\n",
      "Epoch 15/50\n",
      "625/625 [==============================] - 2s 3ms/step - loss: 0.4672 - accuracy: 0.7742 - val_loss: 0.4624 - val_accuracy: 0.7844\n",
      "Epoch 16/50\n",
      "625/625 [==============================] - 1s 2ms/step - loss: 0.4664 - accuracy: 0.7699 - val_loss: 0.4641 - val_accuracy: 0.7786\n",
      "Epoch 17/50\n",
      "625/625 [==============================] - 2s 3ms/step - loss: 0.4631 - accuracy: 0.7760 - val_loss: 0.4927 - val_accuracy: 0.7825\n",
      "Epoch 18/50\n",
      "625/625 [==============================] - 2s 4ms/step - loss: 0.4641 - accuracy: 0.7741 - val_loss: 0.4650 - val_accuracy: 0.7837\n",
      "Epoch 19/50\n",
      "625/625 [==============================] - 1s 2ms/step - loss: 0.4580 - accuracy: 0.7781 - val_loss: 0.4782 - val_accuracy: 0.7799\n",
      "Epoch 20/50\n",
      "625/625 [==============================] - 1s 2ms/step - loss: 0.4585 - accuracy: 0.7784 - val_loss: 0.4588 - val_accuracy: 0.7818\n",
      "Epoch 21/50\n",
      "625/625 [==============================] - 1s 2ms/step - loss: 0.4590 - accuracy: 0.7763 - val_loss: 0.4582 - val_accuracy: 0.7837\n",
      "Epoch 22/50\n",
      "625/625 [==============================] - 1s 2ms/step - loss: 0.4570 - accuracy: 0.7806 - val_loss: 0.4725 - val_accuracy: 0.7837\n",
      "Epoch 23/50\n",
      "625/625 [==============================] - 1s 2ms/step - loss: 0.4563 - accuracy: 0.7794 - val_loss: 0.4786 - val_accuracy: 0.7703\n",
      "Epoch 24/50\n",
      "625/625 [==============================] - 2s 2ms/step - loss: 0.4520 - accuracy: 0.7806 - val_loss: 0.4587 - val_accuracy: 0.7850\n",
      "Epoch 25/50\n",
      "625/625 [==============================] - 2s 3ms/step - loss: 0.4533 - accuracy: 0.7888 - val_loss: 0.4576 - val_accuracy: 0.7863\n",
      "Epoch 26/50\n",
      "625/625 [==============================] - 1s 2ms/step - loss: 0.4513 - accuracy: 0.7858 - val_loss: 0.4756 - val_accuracy: 0.7857\n",
      "Epoch 27/50\n",
      "625/625 [==============================] - 2s 2ms/step - loss: 0.4490 - accuracy: 0.7850 - val_loss: 0.4608 - val_accuracy: 0.7837\n",
      "Epoch 28/50\n",
      "625/625 [==============================] - 1s 2ms/step - loss: 0.4499 - accuracy: 0.7846 - val_loss: 0.4602 - val_accuracy: 0.7895\n",
      "Epoch 29/50\n",
      "625/625 [==============================] - 1s 2ms/step - loss: 0.4480 - accuracy: 0.7870 - val_loss: 0.4596 - val_accuracy: 0.7901\n",
      "Epoch 30/50\n",
      "625/625 [==============================] - 1s 2ms/step - loss: 0.4481 - accuracy: 0.7870 - val_loss: 0.4497 - val_accuracy: 0.7914\n",
      "Epoch 31/50\n",
      "625/625 [==============================] - 1s 2ms/step - loss: 0.4482 - accuracy: 0.7891 - val_loss: 0.4554 - val_accuracy: 0.7882\n",
      "Epoch 32/50\n",
      "625/625 [==============================] - 1s 2ms/step - loss: 0.4477 - accuracy: 0.7870 - val_loss: 0.4622 - val_accuracy: 0.7850\n",
      "Epoch 33/50\n",
      "625/625 [==============================] - 1s 2ms/step - loss: 0.4442 - accuracy: 0.7904 - val_loss: 0.4517 - val_accuracy: 0.7927\n",
      "Epoch 34/50\n",
      "625/625 [==============================] - 2s 2ms/step - loss: 0.4407 - accuracy: 0.7882 - val_loss: 0.4600 - val_accuracy: 0.7901\n",
      "Epoch 35/50\n",
      "625/625 [==============================] - 2s 3ms/step - loss: 0.4393 - accuracy: 0.7902 - val_loss: 0.4673 - val_accuracy: 0.7729\n",
      "Epoch 36/50\n",
      "625/625 [==============================] - 2s 3ms/step - loss: 0.4408 - accuracy: 0.7933 - val_loss: 0.4485 - val_accuracy: 0.7889\n",
      "Epoch 37/50\n",
      "625/625 [==============================] - 1s 2ms/step - loss: 0.4411 - accuracy: 0.7864 - val_loss: 0.4484 - val_accuracy: 0.7850\n",
      "Epoch 38/50\n",
      "625/625 [==============================] - 1s 2ms/step - loss: 0.4392 - accuracy: 0.7914 - val_loss: 0.4514 - val_accuracy: 0.7921\n",
      "Epoch 39/50\n",
      "625/625 [==============================] - 1s 2ms/step - loss: 0.4377 - accuracy: 0.7936 - val_loss: 0.4513 - val_accuracy: 0.7895\n",
      "Epoch 40/50\n",
      "625/625 [==============================] - 1s 2ms/step - loss: 0.4377 - accuracy: 0.7880 - val_loss: 0.4595 - val_accuracy: 0.7876\n",
      "Epoch 41/50\n",
      "625/625 [==============================] - 1s 2ms/step - loss: 0.4370 - accuracy: 0.7917 - val_loss: 0.4492 - val_accuracy: 0.7793\n",
      "Epoch 42/50\n",
      "625/625 [==============================] - 1s 2ms/step - loss: 0.4352 - accuracy: 0.7920 - val_loss: 0.4813 - val_accuracy: 0.7742\n",
      "Epoch 43/50\n",
      "625/625 [==============================] - 1s 2ms/step - loss: 0.4362 - accuracy: 0.7893 - val_loss: 0.4700 - val_accuracy: 0.7831\n",
      "Epoch 44/50\n",
      "625/625 [==============================] - 1s 2ms/step - loss: 0.4339 - accuracy: 0.7939 - val_loss: 0.4586 - val_accuracy: 0.7844\n",
      "Epoch 45/50\n",
      "625/625 [==============================] - 1s 2ms/step - loss: 0.4338 - accuracy: 0.7939 - val_loss: 0.4505 - val_accuracy: 0.7901\n",
      "Epoch 46/50\n",
      "625/625 [==============================] - 2s 3ms/step - loss: 0.4318 - accuracy: 0.7920 - val_loss: 0.4561 - val_accuracy: 0.7895\n",
      "Epoch 47/50\n",
      "625/625 [==============================] - 2s 3ms/step - loss: 0.4333 - accuracy: 0.7925 - val_loss: 0.4534 - val_accuracy: 0.7889\n",
      "Epoch 48/50\n",
      "625/625 [==============================] - 2s 3ms/step - loss: 0.4309 - accuracy: 0.7950 - val_loss: 0.4618 - val_accuracy: 0.7850\n",
      "Epoch 49/50\n",
      "625/625 [==============================] - 1s 2ms/step - loss: 0.4320 - accuracy: 0.7947 - val_loss: 0.4555 - val_accuracy: 0.7972\n",
      "Epoch 50/50\n",
      "625/625 [==============================] - 1s 2ms/step - loss: 0.4332 - accuracy: 0.7925 - val_loss: 0.4503 - val_accuracy: 0.7965\n"
     ]
    }
   ],
   "source": [
    "history = model.fit(\n",
    "    Input_train_norm,\n",
    "    Output_train,                \n",
    "    epochs = 50,\n",
    "    batch_size=10,\n",
    "    validation_split=0.2,\n",
    "    callbacks=[])"
   ]
  },
  {
   "cell_type": "code",
   "execution_count": 53,
   "id": "f6b3e987",
   "metadata": {},
   "outputs": [
    {
     "data": {
      "image/png": "[encoded data removed]",
      "text/plain": [
       "<Figure size 432x288 with 1 Axes>"
      ]
     },
     "metadata": {},
     "output_type": "display_data"
    },
    {
     "data": {
      "image/png": "[encoded data removed]",
      "text/plain": [
       "<Figure size 432x288 with 1 Axes>"
      ]
     },
     "metadata": {},
     "output_type": "display_data"
    }
   ],
   "source": [
    "# summarize history for accuracy\n",
    "plt.plot(history.history['accuracy'])\n",
    "plt.plot(history.history['val_accuracy'])\n",
    "plt.title('model accuracy')\n",
    "plt.ylabel('accuracy')\n",
    "plt.xlabel('epoch')\n",
    "plt.legend(['train', 'test'], loc='upper left')\n",
    "plt.show()\n",
    "# summarize history for loss\n",
    "plt.plot(history.history['loss'])\n",
    "plt.plot(history.history['val_loss'])\n",
    "plt.title('model loss')\n",
    "plt.ylabel('loss')\n",
    "plt.xlabel('epoch')\n",
    "plt.legend(['train', 'test'], loc='upper left')\n",
    "plt.show()"
   ]
  },
  {
   "cell_type": "code",
   "execution_count": null,
   "id": "1518ff06",
   "metadata": {},
   "outputs": [],
   "source": []
  },
  {
   "cell_type": "code",
   "execution_count": null,
   "id": "7e37e351",
   "metadata": {},
   "outputs": [],
   "source": []
  },
  {
   "cell_type": "code",
   "execution_count": null,
   "id": "e92d318b",
   "metadata": {},
   "outputs": [],
   "source": []
  },
  {
   "cell_type": "code",
   "execution_count": null,
   "id": "41f79547",
   "metadata": {},
   "outputs": [],
   "source": []
  },
  {
   "cell_type": "code",
   "execution_count": null,
   "id": "3d7c96dc",
   "metadata": {},
   "outputs": [],
   "source": []
  }
 ],
 "metadata": {
  "kernelspec": {
   "display_name": "Python 3 (ipykernel)",
   "language": "python",
   "name": "python3"
  },
  "language_info": {
   "codemirror_mode": {
    "name": "ipython",
    "version": 3
   },
   "file_extension": ".py",
   "mimetype": "text/x-python",
   "name": "python",
   "nbconvert_exporter": "python",
   "pygments_lexer": "ipython3",
   "version": "3.9.7"
  }
 },
 "nbformat": 4,
 "nbformat_minor": 5
}
