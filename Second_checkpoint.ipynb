{
 "cells": [
  {
   "cell_type": "markdown",
   "id": "efd0ad65",
   "metadata": {},
   "source": [
    "Question 1 : \n",
    "Write a program that will find all numbers which are divisible by 7 but are not a multiple of 5, between 2000 and 3200 (both included). The numbers obtained should be printed in a list."
   ]
  },
  {
   "cell_type": "code",
   "execution_count": 7,
   "id": "d9397368",
   "metadata": {},
   "outputs": [],
   "source": [
    "list = []\n",
    "for i in range(2000,3201):\n",
    "    if((i%7)==0 and (i%5)!=0):\n",
    "        list.append(i)"
   ]
  },
  {
   "cell_type": "markdown",
   "id": "221fef29",
   "metadata": {},
   "source": [
    "Question 2 \n",
    "\n",
    " Write a program that can compute the factorial of a given number. (The factorial of n is the product of all positive integers less than or equal to n.) For example: For factorial(5)= 5 x 4 x 3 x 2 x 1 the result is 120 (i.e. factorial (0)=1)."
   ]
  },
  {
   "cell_type": "code",
   "execution_count": 66,
   "id": "e5facb8e",
   "metadata": {},
   "outputs": [
    {
     "name": "stdout",
     "output_type": "stream",
     "text": [
      "Enter The Value :5\n",
      "120\n"
     ]
    }
   ],
   "source": [
    "def factoriel():\n",
    "    n = int(input(\"Enter The Value :\"))\n",
    "    fact = 1\n",
    "    for i in range(1,n+1):\n",
    "        fact = fact * i\n",
    "    print(fact)   \n",
    "factoriel()"
   ]
  },
  {
   "cell_type": "markdown",
   "id": "6733cb0c",
   "metadata": {},
   "source": [
    "Question 3 \n",
    "\n",
    "With a given integer number n, write a program to generate a dictionary that contains (i, i*i) such that is an integral number between 1 and n (both included). Then, the program should print the dictionary. Suppose the following input is supplied to the program: 8 Then, the output should be: {1: 1, 2: 4, 3: 9, 4: 16, 5: 25, 6: 36, 7: 49, 8: 64}"
   ]
  },
  {
   "cell_type": "code",
   "execution_count": 78,
   "id": "469a4a65",
   "metadata": {},
   "outputs": [
    {
     "name": "stdout",
     "output_type": "stream",
     "text": [
      "Enter The Values :10\n",
      "{1: 1, 2: 4, 3: 9, 4: 16, 5: 25, 6: 36, 7: 49, 8: 64, 9: 81, 10: 100}\n"
     ]
    }
   ],
   "source": [
    "import random \n",
    "a = int(input(\"Enter The Values :\"))\n",
    "dictMulti = {}\n",
    "for i in range(1,a+1):\n",
    "    dictMulti[i] = i*i\n",
    "\n",
    "print(dictMulti)"
   ]
  },
  {
   "cell_type": "markdown",
   "id": "8100ebaf",
   "metadata": {},
   "source": [
    "Question 4 \n",
    "\n",
    "Given a non-empty string and an integral n, return a new string where the char at index n has been removed. The value of n will be a valid index of a char in the original string (i.e. n will be in the range 0..len(str)-1 inclusive). \n",
    "\n",
    "missing_char('kitten', 1) → 'ktten'    for example here we remove \"i\" which is located in the index 1\n",
    "\n",
    "missing_char('kitten', 0) → 'itten'   here we remove \"k\" which is in the index 0\n",
    "\n",
    "missing_char('kitten', 4) → 'kittn'   here we remove \"e\" which is in the index 4"
   ]
  },
  {
   "cell_type": "code",
   "execution_count": 104,
   "id": "4c74bcc9",
   "metadata": {},
   "outputs": [],
   "source": [
    "def removerChar():\n",
    "    Mot = input(\"Enter The Values :\")\n",
    "    message = \"Enter The index of char between \"+str(0)+\" and \"+str(len(Mot)-1)+\" :\"\n",
    "    n = int(input(message))\n",
    "    while(n<0 or n>=len(Mot)):\n",
    "        n = int(input(message))\n",
    "    NouveauMot = Mot[:n] + Mot[n+1 : len(Mot)+1]\n",
    "\n",
    "    return print('Le mot original => '+Mot+' ||| l\\'index du charactére a supprimer =>',n,' ||| Le nouveau mot =>'+NouveauMot )"
   ]
  },
  {
   "cell_type": "code",
   "execution_count": 106,
   "id": "efab194a",
   "metadata": {},
   "outputs": [
    {
     "name": "stdout",
     "output_type": "stream",
     "text": [
      "Enter The Values :imene\n",
      "Enter The index of char between 0 and 4 :6\n",
      "Enter The index of char between 0 and 4 :6\n",
      "Enter The index of char between 0 and 4 :4\n",
      "Le mot original => imene ||| l'index du charactére a supprimer => 4  ||| Le nouveau mot =>imen\n"
     ]
    }
   ],
   "source": [
    "removerChar()"
   ]
  },
  {
   "cell_type": "markdown",
   "id": "8cecec3c",
   "metadata": {},
   "source": [
    "Question 5 \n",
    "\n",
    "Write a NumPy program to convert a NumPy array into a Python list structure.\n",
    "\n",
    "Expected output: \n",
    "\n",
    "Original array elements: [[0 1] [2 3] [4 5]] \n",
    "\n",
    "Array to list: [[0, 1], [2, 3], [4, 5]] \n",
    " \n",
    "\n",
    "Hint: We can use the to_list() function to ensure the conversion."
   ]
  },
  {
   "cell_type": "code",
   "execution_count": 77,
   "id": "961eb0b1",
   "metadata": {},
   "outputs": [
    {
     "name": "stdout",
     "output_type": "stream",
     "text": [
      "Original array elements :\n",
      " [[0 1]\n",
      " [2 3]\n",
      " [4 5]] \n",
      "Array to list : [[0, 1], [2, 3], [4, 5]]\n"
     ]
    }
   ],
   "source": [
    "import numpy as np\n",
    "a= np.array([[0,1],[2,3],[4,5]])\n",
    "list = a.tolist()\n",
    "print('Original array elements :\\n',a,'\\nArray to list :',list)"
   ]
  },
  {
   "cell_type": "markdown",
   "id": "d397dd01",
   "metadata": {},
   "source": [
    "Question 6:\n",
    "\n",
    "Write a NumPy program to compute the covariance matrix of two given arrays. \n",
    "\n",
    "Original array1: [0 1 2] \n",
    "\n",
    "Original array2: [2 1 0] \n",
    "\n",
    "Covariance matrix of the said arrays: [[ 1. -1.] [-1. 1.]]\n",
    " \n",
    "\n",
    "Hint: We can use the np.cov() function to calculate the covariance between these two arrays"
   ]
  },
  {
   "cell_type": "code",
   "execution_count": 107,
   "id": "2eb7d973",
   "metadata": {},
   "outputs": [
    {
     "data": {
      "text/plain": [
       "array([[1., 1.],\n",
       "       [1., 4.]])"
      ]
     },
     "execution_count": 107,
     "metadata": {},
     "output_type": "execute_result"
    }
   ],
   "source": [
    "import numpy as np \n",
    "a = np.array([1,3,-1])\n",
    "b = np.array([1,0,-1])\n",
    "\n",
    "np.cov(b,a)"
   ]
  },
  {
   "cell_type": "markdown",
   "id": "c115f2a8",
   "metadata": {},
   "source": [
    "Question 7\n",
    "\n",
    "Question: Write a program that calculates and prints the value according to the given formula: Q= Square root of [(2 * C * D)/H] \n",
    "\n",
    "The following are the fixed values of C and H: C is 50. H is 30. \n",
    "\n",
    "D is the variable whose values should be input into your program in a comma-separated sequence. (That means D contains more than value)\n",
    "\n",
    "Example: Let's assume the following comma-separated input sequence is given to the program: 100,150,180 The output of the program should be 18,22,24 \n",
    "\n",
    "To further explain this, we will obtain a result for each value of D:  Q1= Square root of [(2 * C * 100)/H] =18, Q2= Square root of [(2 * C * 150)/H] = 22 and Q3 = Square root of [(2 * C * 180)/H]  = 24\n",
    "\n",
    "Hint: If the output received is in decimal form, it should be rounded off to its nearest value. For example, if the output received is 26.0, it should be printed as 26. In case of input data being supplied to the question, it should be assumed to be a console input."
   ]
  },
  {
   "cell_type": "code",
   "execution_count": 113,
   "id": "4fb13c17",
   "metadata": {},
   "outputs": [],
   "source": [
    "import math\n",
    "def operation(C=50,H=30,D = [] ):\n",
    "    D = str(input(\"Enter a set of values seperated with comma separator ex => 12,15,17 :\"))\n",
    "    D = [int(i) for i in D.split(',')]\n",
    "    result = []\n",
    "    for i in D:\n",
    "        result.append(str(round(math.sqrt((2*C*i/H)))))\n",
    "    return print(\",\".join(result))\n"
   ]
  },
  {
   "cell_type": "code",
   "execution_count": null,
   "id": "ea75c184",
   "metadata": {},
   "outputs": [],
   "source": [
    "operation()"
   ]
  },
  {
   "cell_type": "code",
   "execution_count": null,
   "id": "75e92aa4",
   "metadata": {},
   "outputs": [],
   "source": []
  }
 ],
 "metadata": {
  "kernelspec": {
   "display_name": "Python 3 (ipykernel)",
   "language": "python",
   "name": "python3"
  },
  "language_info": {
   "codemirror_mode": {
    "name": "ipython",
    "version": 3
   },
   "file_extension": ".py",
   "mimetype": "text/x-python",
   "name": "python",
   "nbconvert_exporter": "python",
   "pygments_lexer": "ipython3",
   "version": "3.9.7"
  }
 },
 "nbformat": 4,
 "nbformat_minor": 5
}
