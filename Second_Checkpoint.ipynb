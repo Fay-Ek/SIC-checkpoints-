{
 "cells": [
  {
   "cell_type": "code",
   "execution_count": 45,
   "id": "8d3b43b2",
   "metadata": {},
   "outputs": [],
   "source": [
    "import numpy as np\n",
    "def sigmoid(x):\n",
    "    return (1/(1+np.exp(-x)))\n",
    "\n",
    "def zeros():\n",
    "    return np.zeros(10)\n",
    "\n",
    "def size(l):\n",
    "    L = np.array(l)\n",
    "    return L.size\n",
    "\n",
    "def Q6():\n",
    "    return np.append(np.append(np.zeros(3),np.ones(1)),np.zeros(6))\n",
    "\n",
    "def Q7():\n",
    "    return np.arange(10,46)\n",
    "\n",
    "def Q8(arr):\n",
    "    return arr[::-1]\n",
    "\n",
    "def Q9():\n",
    "    return np.reshape(np.arange(0,9),(3,3))\n",
    "\n",
    "#retourne les incides comportante un chiffre non zero\n",
    "def Q10(l):\n",
    "    return np.nonzero(l)\n",
    "\n",
    "def Q11():\n",
    "    return np.eye(3)\n",
    "\n",
    "def Q12():\n",
    "    return np.random.random((3,3,3))\n",
    "\n",
    "def Q13():\n",
    "    return np.max(np.random.random((10,10))) , np.min(np.random.random((10,10)))\n",
    "\n",
    "def Q14():\n",
    "    return np.mean(np.random.random(30))\n",
    "\n",
    "def Q15():\n",
    "    l = np.ones((10,10))\n",
    "    l[1:-1, 1:-1] = 0\n",
    "    return l\n",
    "\n",
    "def Q16():\n",
    "    l = np.ones((10,10))\n",
    "    arr = np.pad(l, pad_width=1, mode='constant', constant_values=0)\n",
    "    return arr\n",
    "\n",
    "def Q17():\n",
    "    "
   ]
  },
  {
   "cell_type": "code",
   "execution_count": 8,
   "id": "420bd392",
   "metadata": {},
   "outputs": [
    {
     "data": {
      "text/plain": [
       "(array([0, 1, 3], dtype=int64),)"
      ]
     },
     "execution_count": 8,
     "metadata": {},
     "output_type": "execute_result"
    }
   ],
   "source": [
    "Q10([1,2,0,3,0])"
   ]
  },
  {
   "cell_type": "code",
   "execution_count": 51,
   "id": "ae60ef4f",
   "metadata": {},
   "outputs": [
    {
     "data": {
      "text/plain": [
       "True"
      ]
     },
     "execution_count": 51,
     "metadata": {},
     "output_type": "execute_result"
    }
   ],
   "source": [
    "np.nan in set([np.nan])"
   ]
  },
  {
   "cell_type": "code",
   "execution_count": 86,
   "id": "cc7a69a0",
   "metadata": {},
   "outputs": [
    {
     "data": {
      "text/plain": [
       "array([[ 0,  1,  2,  3,  4],\n",
       "       [ 1,  6,  7,  8,  9],\n",
       "       [10,  2, 12, 13, 14],\n",
       "       [15, 16,  3, 18, 19],\n",
       "       [20, 21, 22,  4, 24]])"
      ]
     },
     "execution_count": 86,
     "metadata": {},
     "output_type": "execute_result"
    }
   ],
   "source": [
    "a = np.reshape(np.arange(0,25),(5,5))\n",
    "l = np.diag([1,2,3,4],k=-1)\n",
    "l+a-np.diag(np.diag(a,k=-1),k=-1)\n",
    "\n",
    "        "
   ]
  },
  {
   "cell_type": "code",
   "execution_count": 147,
   "id": "f0af0ed8",
   "metadata": {},
   "outputs": [
    {
     "data": {
      "text/plain": [
       "array([[0.53550215, 0.01589029, 0.31004212, 0.27293439, 0.92850419],\n",
       "       [0.01589029, 0.48130698, 0.24501851, 0.73682189, 0.49784691],\n",
       "       [0.31004212, 0.24501851, 0.67986654, 0.00315851, 0.08940427],\n",
       "       [0.27293439, 0.73682189, 0.00315851, 0.68511607, 0.29296073],\n",
       "       [0.92850419, 0.49784691, 0.08940427, 0.29296073, 0.87984888]])"
      ]
     },
     "execution_count": 147,
     "metadata": {},
     "output_type": "execute_result"
    }
   ],
   "source": [
    "import numpy as np\n",
    "\n",
    "#1.1\n",
    "zero = np.zeros(6)\n",
    "#1.2\n",
    "one = np.ones(6)\n",
    "#1.3\n",
    "squarMat = np.arange(0,25).reshape((5,5))\n",
    "squarMat\n",
    "#1.4\n",
    "Mat = np.arange(0,25).reshape((5,5))\n",
    "np.diag(Mat, k=0)\n",
    "#1.5\n",
    "np.diag([1,1,1,1,1], k=0)\n",
    "    #or\n",
    "np.eye(5)\n",
    "#1.6\n",
    "l = np.random.rand(5, 5)\n",
    "m = np.tril(l) + np.tril(l, -1).T\n",
    "m\n",
    "        \n"
   ]
  },
  {
   "cell_type": "code",
   "execution_count": 142,
   "id": "3dd98456",
   "metadata": {},
   "outputs": [
    {
     "data": {
      "text/plain": [
       "array([[0.9596288 , 0.9596288 , 0.9596288 ],\n",
       "       [0.1638728 , 0.1638728 , 0.1638728 ],\n",
       "       [0.04084499, 0.04084499, 0.04084499]])"
      ]
     },
     "execution_count": 142,
     "metadata": {},
     "output_type": "execute_result"
    }
   ],
   "source": []
  },
  {
   "cell_type": "code",
   "execution_count": 145,
   "id": "514dc3f6",
   "metadata": {},
   "outputs": [
    {
     "data": {
      "text/plain": [
       "array([[0.71305386, 0.7721271 , 0.46128454, 0.18529509, 0.95107946],\n",
       "       [0.7721271 , 0.36932367, 0.06128681, 0.38758963, 0.4446897 ],\n",
       "       [0.46128454, 0.06128681, 0.50716881, 0.8046428 , 0.69026569],\n",
       "       [0.18529509, 0.38758963, 0.8046428 , 0.82800996, 0.9039783 ],\n",
       "       [0.95107946, 0.4446897 , 0.69026569, 0.9039783 , 0.3489062 ]])"
      ]
     },
     "execution_count": 145,
     "metadata": {},
     "output_type": "execute_result"
    }
   ],
   "source": [
    "a = np.random.rand(5, 5)\n",
    "m = np.tril(a) + np.tril(a, -1).T\n",
    "m"
   ]
  },
  {
   "cell_type": "code",
   "execution_count": 146,
   "id": "f15b6409",
   "metadata": {},
   "outputs": [
    {
     "data": {
      "text/plain": [
       "array([[ True,  True,  True,  True,  True],\n",
       "       [ True,  True,  True,  True,  True],\n",
       "       [ True,  True,  True,  True,  True],\n",
       "       [ True,  True,  True,  True,  True],\n",
       "       [ True,  True,  True,  True,  True]])"
      ]
     },
     "execution_count": 146,
     "metadata": {},
     "output_type": "execute_result"
    }
   ],
   "source": [
    "m == m.transpose()"
   ]
  },
  {
   "cell_type": "code",
   "execution_count": 152,
   "id": "96176ccc",
   "metadata": {},
   "outputs": [
    {
     "data": {
      "text/plain": [
       "array([3000000, 3200000, 2500000])"
      ]
     },
     "execution_count": 152,
     "metadata": {},
     "output_type": "execute_result"
    }
   ],
   "source": [
    "#2.1\n",
    "p = np.array([1000000,800000,500000])\n",
    "n = np.array([3,4,5])\n",
    "#2.2\n",
    "np.multiply(p,n)\n",
    "\n"
   ]
  },
  {
   "cell_type": "code",
   "execution_count": 161,
   "id": "8e5b3762",
   "metadata": {},
   "outputs": [
    {
     "data": {
      "text/plain": [
       "(64,)"
      ]
     },
     "execution_count": 161,
     "metadata": {},
     "output_type": "execute_result"
    }
   ],
   "source": [
    "from sklearn.datasets import load_digits\n",
    "X=load_digits().data\n",
    "\n",
    "X[1].shape"
   ]
  },
  {
   "cell_type": "code",
   "execution_count": 169,
   "id": "fa7dcfd7",
   "metadata": {},
   "outputs": [],
   "source": [
    "def similarity(a,b):\n",
    "    dot = np.dot(a, b)\n",
    "    norma = np.linalg.norm(a)\n",
    "    normb = np.linalg.norm(b)\n",
    "    cos = dot / (norma * normb)\n",
    "    return cos\n"
   ]
  },
  {
   "cell_type": "code",
   "execution_count": 171,
   "id": "190be244",
   "metadata": {},
   "outputs": [
    {
     "data": {
      "text/plain": [
       "array([[1.        , 0.51910234, 0.61684198, ..., 0.71121668, 0.82580797,\n",
       "        0.74430965],\n",
       "       [0.51910234, 1.        , 0.79859118, ..., 0.84372046, 0.72334144,\n",
       "        0.72538603],\n",
       "       [0.61684198, 0.79859118, 1.        , ..., 0.84727621, 0.70383842,\n",
       "        0.7942196 ],\n",
       "       ...,\n",
       "       [0.71121668, 0.84372046, 0.84727621, ..., 1.        , 0.79544008,\n",
       "        0.91695754],\n",
       "       [0.82580797, 0.72334144, 0.70383842, ..., 0.79544008, 1.        ,\n",
       "        0.83395856],\n",
       "       [0.74430965, 0.72538603, 0.7942196 , ..., 0.91695754, 0.83395856,\n",
       "        1.        ]])"
      ]
     },
     "execution_count": 171,
     "metadata": {},
     "output_type": "execute_result"
    }
   ],
   "source": [
    "a = np.ones((1797,1797))\n",
    "for i in range(X.shape[0]):\n",
    "    for j in range(X.shape[0]):\n",
    "        a[i][j] = similarity(X[i],X[j])\n",
    "\n",
    "a"
   ]
  },
  {
   "cell_type": "code",
   "execution_count": 195,
   "id": "2700da51",
   "metadata": {},
   "outputs": [],
   "source": [
    "from sklearn.datasets import load_boston\n",
    "boston=load_boston()\n",
    "X=boston.data\n",
    "y=boston.target\n",
    "A=X[:4, [0,4,5,6]] # ‘CRIM’,’NOX’,’RM’,’AGE’\n",
    "b=y[:4]\n"
   ]
  },
  {
   "cell_type": "code",
   "execution_count": 199,
   "id": "c2b75ceb",
   "metadata": {},
   "outputs": [],
   "source": [
    "All = A.sum(axis=1)\n"
   ]
  },
  {
   "cell_type": "code",
   "execution_count": 201,
   "id": "8e327d47",
   "metadata": {},
   "outputs": [
    {
     "data": {
      "text/plain": [
       "array([0.33186153, 0.25169747, 0.50449766, 0.62677841])"
      ]
     },
     "execution_count": 201,
     "metadata": {},
     "output_type": "execute_result"
    }
   ],
   "source": [
    "result = b/All\n",
    "result"
   ]
  },
  {
   "cell_type": "code",
   "execution_count": 204,
   "id": "9558467f",
   "metadata": {},
   "outputs": [],
   "source": [
    "from sklearn.datasets import load_boston\n",
    "boston=load_boston()\n",
    "X=boston.data\n",
    "y=boston.target"
   ]
  },
  {
   "cell_type": "code",
   "execution_count": 205,
   "id": "ec0b8e8a",
   "metadata": {},
   "outputs": [
    {
     "name": "stdout",
     "output_type": "stream",
     "text": [
      "[0.02959677 0.02820969 0.04692497 0.04752415 0.05055539 0.04003403\n",
      " 0.02731443 0.03091804 0.01873769 0.02211638 0.01719567 0.02204038\n",
      " 0.02683194 0.02491073 0.02201647 0.02450051 0.02981047 0.02096235\n",
      " 0.0293599  0.02212343 0.0160569  0.02313866 0.0176878  0.01674375\n",
      " 0.01821405 0.01835705 0.01990802 0.01935667 0.02170987 0.02523725\n",
      " 0.0153266  0.01721989 0.01901152 0.01590891 0.01881018 0.02380963\n",
      " 0.02599613 0.02739035 0.03278439 0.0392131  0.04488534 0.03987849\n",
      " 0.03781372 0.03623033 0.02977066 0.0270641  0.02790635 0.02155154\n",
      " 0.01809521 0.02592656 0.02597384 0.02661466 0.03436245 0.0320341\n",
      " 0.01808558 0.04543578 0.02831234 0.03805688 0.02975213 0.02424047\n",
      " 0.02253396 0.01902137 0.02682764 0.03103152 0.04495714 0.02691327\n",
      " 0.02175985 0.02666593 0.02056989 0.02493795 0.03234146 0.02873601\n",
      " 0.0301948  0.03153381 0.02824427 0.02423499 0.02208652 0.02341513\n",
      " 0.02358938 0.0228813  0.035799   0.02916055 0.03171983 0.02896024\n",
      " 0.03233321 0.03597054 0.03049264 0.02984797 0.02976475 0.03731608\n",
      " 0.0293375  0.02824549 0.02853142 0.03217298 0.02480729 0.03879743\n",
      " 0.02736999 0.04910357 0.0588131  0.04278875 0.03012994 0.02933748\n",
      " 0.03125218 0.02090207 0.02178324 0.02087145 0.02089073 0.02231116\n",
      " 0.0212304  0.02095038 0.0244108  0.02367109 0.01920706 0.01899231\n",
      " 0.01930301 0.01980971 0.02224006 0.01994419 0.02261799 0.02041676\n",
      " 0.0306942  0.02820839 0.02799048 0.02350538 0.02554088 0.0292466\n",
      " 0.02164805 0.01623646 0.01792163 0.01425507 0.01919673 0.0195733\n",
      " 0.02326091 0.01853987 0.01788451 0.01803602 0.01772624 0.01709248\n",
      " 0.01324636 0.01768789 0.0140192  0.01406098 0.0137026  0.01595993\n",
      " 0.01208806 0.0183075  0.0211276  0.01506947 0.01911291 0.01671719\n",
      " 0.02295175 0.02162107 0.01708925 0.02340529 0.01919639 0.02432887\n",
      " 0.02011127 0.04497202 0.0266339  0.0252014  0.03032935 0.05430248\n",
      " 0.05289374 0.05310048 0.02384571 0.0313612  0.05410845 0.03083148\n",
      " 0.02774234 0.02504045 0.02038155 0.02096764 0.02781265 0.0287821\n",
      " 0.02816637 0.03861841 0.02965443 0.03047811 0.0371617  0.05415203\n",
      " 0.05576261 0.05215321 0.05279768 0.04486236 0.03665633 0.04257148\n",
      " 0.07369042 0.0348062  0.03330258 0.03793056 0.04181365 0.03368063\n",
      " 0.04042282 0.04058609 0.03840829 0.06273375 0.0380467  0.03609263\n",
      " 0.03944078 0.03672552 0.03513722 0.02672695 0.04819212 0.06189444\n",
      " 0.06416029 0.03010436 0.03128488 0.02808081 0.03139483 0.02377206\n",
      " 0.02632503 0.02328264 0.02863989 0.03753524 0.03346285 0.0326156\n",
      " 0.02971197 0.03545209 0.02589079 0.0280717  0.03177861 0.02529943\n",
      " 0.03317643 0.03605171 0.05476306 0.06091022 0.04542424 0.03909754\n",
      " 0.06235868 0.04172335 0.03009685 0.03918706 0.05125761 0.06002704\n",
      " 0.03691057 0.03006368 0.03039121 0.03853094 0.03058138 0.02897302\n",
      " 0.02656253 0.0238543  0.02746422 0.03121649 0.02047381 0.02112036\n",
      " 0.02916697 0.023717   0.02944199 0.03207144 0.02999035 0.03147209\n",
      " 0.0371506  0.05278961 0.0253687  0.02444176 0.05538078 0.06254272\n",
      " 0.04457718 0.03693449 0.04221506 0.05375131 0.06084078 0.03798936\n",
      " 0.04540404 0.02920923 0.03837454 0.06436481 0.05697539 0.02762054\n",
      " 0.02904903 0.03586448 0.0327964  0.0479268  0.04220514 0.04121829\n",
      " 0.04256869 0.04352874 0.03782418 0.04980518 0.06238034 0.05014572\n",
      " 0.06539933 0.0673388  0.03868126 0.02674576 0.02702652 0.0281988\n",
      " 0.02662359 0.03131787 0.03590761 0.04697351 0.03530109 0.0314909\n",
      " 0.02765914 0.03712383 0.03442756 0.02517523 0.02622416 0.03405017\n",
      " 0.02726734 0.02587048 0.03237745 0.04045531 0.04904391 0.03769164\n",
      " 0.04343776 0.0367253  0.02742925 0.02448208 0.02152804 0.02755347\n",
      " 0.02297536 0.02600116 0.02834506 0.01946256 0.02120803 0.02381402\n",
      " 0.02817312 0.02576073 0.03024115 0.02929089 0.02598441 0.0229143\n",
      " 0.03229681 0.03302139 0.03012623 0.02829457 0.0218336  0.02609806\n",
      " 0.02258925 0.02109432 0.02521169 0.0316591  0.02947203 0.02987074\n",
      " 0.02711952 0.02529342 0.02910594 0.02646987 0.02560112 0.04080951\n",
      " 0.01808319 0.02584349 0.03521787 0.020899   0.02091986 0.02555199\n",
      " 0.02969449 0.03153979 0.02662781 0.02605575 0.01998522 0.04038308\n",
      " 0.02088678 0.02395178 0.01435348 0.01752219 0.01838903 0.01842398\n",
      " 0.02061213 0.01661943 0.01694648 0.01401542 0.01845116 0.02313903\n",
      " 0.01886532 0.02327276 0.0410202  0.04100039 0.0404139  0.04094238\n",
      " 0.04196039 0.01079959 0.01071752 0.0118535  0.01128418 0.0105231\n",
      " 0.01025701 0.00803171 0.00780581 0.00858275 0.00892714 0.00971944\n",
      " 0.00756955 0.00563237 0.00817316 0.00579708 0.00813823 0.00912033\n",
      " 0.01205934 0.01898291 0.0076561  0.01103742 0.01009562 0.01044818\n",
      " 0.00995844 0.0067677  0.0038409  0.00528438 0.00435701 0.00567659\n",
      " 0.00973411 0.00651739 0.00696778 0.00381106 0.00953105 0.02340558\n",
      " 0.01454776 0.02617072 0.01666828 0.01895521 0.01951911 0.01488113\n",
      " 0.0069571  0.00789792 0.00845952 0.01034856 0.00928914 0.0093631\n",
      " 0.01412686 0.01208612 0.01821667 0.01567253 0.01398326 0.00943059\n",
      " 0.01201405 0.01229214 0.01169187 0.01024738 0.01554182 0.01494931\n",
      " 0.01733544 0.01508987 0.01216018 0.01372003 0.01077726 0.00979671\n",
      " 0.00892341 0.01016232 0.00830213 0.01368093 0.0146589  0.01229001\n",
      " 0.00972533 0.01296705 0.0126707  0.01008828 0.01118587 0.01114005\n",
      " 0.01566952 0.01251354 0.01301611 0.01436623 0.01718093 0.01569673\n",
      " 0.01477383 0.01594484 0.0133275  0.01612107 0.01484467 0.01431889\n",
      " 0.01574346 0.01631455 0.01751963 0.01749183 0.02195482 0.01606447\n",
      " 0.01577    0.01649093 0.01605332 0.01579246 0.01894632 0.02489529\n",
      " 0.01139633 0.01138791 0.01334863 0.00981168 0.01175587 0.01731591\n",
      " 0.01890418 0.01942095 0.02041942 0.01839429 0.01765472 0.01775603\n",
      " 0.01550709 0.01722918 0.01190546 0.0056583  0.00665745 0.01063842\n",
      " 0.01588426 0.02428572 0.02758536 0.02640566 0.02127675 0.01995572\n",
      " 0.02328999 0.01904261 0.01813952 0.02844816 0.02579399 0.02949717\n",
      " 0.02729442 0.0148441 ]\n"
     ]
    }
   ],
   "source": [
    "All = X.sum(axis=1)\n",
    "result = y/All\n",
    "print(result)\n"
   ]
  },
  {
   "cell_type": "code",
   "execution_count": 207,
   "id": "85e36343",
   "metadata": {},
   "outputs": [
    {
     "data": {
      "text/plain": [
       "3.605551275463989"
      ]
     },
     "execution_count": 207,
     "metadata": {},
     "output_type": "execute_result"
    }
   ],
   "source": [
    "import numpy as np\n",
    "\n",
    "a = np.array([4,5,2,2])\n",
    "b = np.array([4,0,2,0])\n",
    "c = np.array([2,2,0,1])\n",
    "\n",
    "distab = np.linalg.norm(a-b)\n",
    "distac = np.linalg.norm(a-c)\n",
    "distcb = np.linalg.norm(c-b)\n",
    "np.min(np.array([distab,distac,distcb]))\n",
    "\n",
    "\n"
   ]
  },
  {
   "cell_type": "code",
   "execution_count": 208,
   "id": "72dc2c83",
   "metadata": {},
   "outputs": [
    {
     "data": {
      "text/plain": [
       "5.385164807134504"
      ]
     },
     "execution_count": 208,
     "metadata": {},
     "output_type": "execute_result"
    }
   ],
   "source": [
    "np.linalg.norm(a-b)\n"
   ]
  },
  {
   "cell_type": "code",
   "execution_count": 210,
   "id": "90a130d5",
   "metadata": {},
   "outputs": [
    {
     "data": {
      "text/plain": [
       "5.385164807134504"
      ]
     },
     "execution_count": 210,
     "metadata": {},
     "output_type": "execute_result"
    }
   ],
   "source": [
    "np.linalg.norm(b-a)"
   ]
  },
  {
   "cell_type": "code",
   "execution_count": 212,
   "id": "98d30af6",
   "metadata": {},
   "outputs": [
    {
     "name": "stdout",
     "output_type": "stream",
     "text": [
      "A: [2 1 2 3 2 9]\n",
      "B: [3 4 2 4 5 5]\n",
      "Cosine Similarity: 0.8188504723485274\n"
     ]
    }
   ],
   "source": [
    "# import required libraries\n",
    "def cosin(A,B):\n",
    "return cosine = np.dot(A,B)/(norm(A)*norm(B))\n"
   ]
  },
  {
   "cell_type": "code",
   "execution_count": 229,
   "id": "77e80b2c",
   "metadata": {},
   "outputs": [
    {
     "name": "stdout",
     "output_type": "stream",
     "text": [
      "farthest users a and b\n",
      "closest users b and c\n"
     ]
    }
   ],
   "source": [
    "a = np.array([4,5,2,2])\n",
    "b = np.array([4,0,2,0])\n",
    "c = np.array([2,2,0,1])\n",
    "\n",
    "distab = np.linalg.norm(a-b)\n",
    "distac = np.linalg.norm(a-c)\n",
    "distcb = np.linalg.norm(c-b)\n",
    "l = np.array([distab,distac,distcb])\n",
    "closest = np.min(l)\n",
    "farthest = np.max(l)\n",
    "dico = {'a and b':distab, 'a and c':distac, 'b and c': distcb}\n",
    "\n",
    "for key in dico:\n",
    "    if( dico[key] == closest):\n",
    "        print('closest users', key)\n",
    "    elif(dico[key] == farthest):\n",
    "        print('farthest users', key)\n"
   ]
  },
  {
   "cell_type": "code",
   "execution_count": 230,
   "id": "4c0005ba",
   "metadata": {},
   "outputs": [
    {
     "data": {
      "text/plain": [
       "6.0"
      ]
     },
     "execution_count": 230,
     "metadata": {},
     "output_type": "execute_result"
    }
   ],
   "source": [
    "np.linalg.norm(A-B)"
   ]
  },
  {
   "cell_type": "code",
   "execution_count": 235,
   "id": "87db4b42",
   "metadata": {},
   "outputs": [
    {
     "name": "stdout",
     "output_type": "stream",
     "text": [
      "Cosine distance a & b : 0.18114952765147263\n",
      "Cosine distance of a & c: 0.18114952765147263\n",
      "Cosine distance of b & c: 0.18114952765147263\n",
      "Cosine distance a & b : 0.36112343500006017\n",
      "Cosine distance of a & c: 0.04761904761904767\n",
      "Cosine distance of b & c: 0.40371520600005606\n",
      "the farthest are b & c by a distance of :  0.40371520600005606\n",
      "the closest are a & c by a distance of :  0.04761904761904767\n"
     ]
    }
   ],
   "source": [
    "a = np.array([4,5,2,2])\n",
    "b = np.array([4,0,2,0])\n",
    "c = np.array([2,2,0,1])\n",
    "cosine1 = np.dot(a,b)/(norm(a)*norm(b))\n",
    "\n",
    "cosine2 = np.dot(a,c)/(norm(a)*norm(c))\n",
    "\n",
    "cosine3 = np.dot(c,b)/(norm(c)*norm(b))\n",
    "\n",
    "cosine1 = 1 - np.dot(a,b)/(norm(a)*norm(b))\n",
    "\n",
    "cosine2 = 1 - np.dot(a,c)/(norm(a)*norm(c))\n",
    "\n",
    "cosine3 = 1 - np.dot(c,b)/(norm(c)*norm(b))\n",
    "\n",
    "print(\"the farthest are b & c by a distance of : \",max(cosine1,cosine2,cosine3))\n",
    "print(\"the closest are a & c by a distance of : \",min(cosine1,cosine2,cosine3))"
   ]
  },
  {
   "cell_type": "code",
   "execution_count": 246,
   "id": "ba062254",
   "metadata": {},
   "outputs": [
    {
     "data": {
      "text/plain": [
       "2.4849066497880004"
      ]
     },
     "execution_count": 246,
     "metadata": {},
     "output_type": "execute_result"
    }
   ],
   "source": [
    "np.round(np.log(2), 2)"
   ]
  },
  {
   "cell_type": "code",
   "execution_count": 5,
   "id": "ddbeab6b",
   "metadata": {},
   "outputs": [
    {
     "data": {
      "text/plain": [
       "1.39"
      ]
     },
     "execution_count": 5,
     "metadata": {},
     "output_type": "execute_result"
    }
   ],
   "source": [
    "import numpy as np\n",
    "np.around(np.log(4),2)"
   ]
  },
  {
   "cell_type": "code",
   "execution_count": 22,
   "id": "69d840a8",
   "metadata": {},
   "outputs": [],
   "source": [
    "Mylist = [1,2,3,4]\n",
    "Mylist.insert(int(len(Mylist)/2),'Game')"
   ]
  },
  {
   "cell_type": "code",
   "execution_count": 26,
   "id": "a2f8561e",
   "metadata": {},
   "outputs": [
    {
     "data": {
      "text/plain": [
       "[1, 2, 3, 4]"
      ]
     },
     "execution_count": 26,
     "metadata": {},
     "output_type": "execute_result"
    }
   ],
   "source": [
    "del Mylist[2]"
   ]
  },
  {
   "cell_type": "code",
   "execution_count": 27,
   "id": "0cb3f7d2",
   "metadata": {},
   "outputs": [
    {
     "data": {
      "text/plain": [
       "('F', 'a', 'y', 'ç', 'a', 'l')"
      ]
     },
     "execution_count": 27,
     "metadata": {},
     "output_type": "execute_result"
    }
   ],
   "source": [
    "newT = tuple('Fayçal')\n",
    "newT"
   ]
  },
  {
   "cell_type": "code",
   "execution_count": 30,
   "id": "2a7cc5a6",
   "metadata": {},
   "outputs": [
    {
     "data": {
      "text/plain": [
       "'Fayçal'"
      ]
     },
     "execution_count": 30,
     "metadata": {},
     "output_type": "execute_result"
    }
   ],
   "source": [
    "Dict = {\"Name\" : \"Fayçal\",\"Num\" : \"0541127142\",\"@Mail\" : \"elmoubarek.faycal@gmail.com\",}\n",
    "Dict['Name']"
   ]
  },
  {
   "cell_type": "code",
   "execution_count": 31,
   "id": "8b15cf47",
   "metadata": {},
   "outputs": [
    {
     "name": "stdout",
     "output_type": "stream",
     "text": [
      "{1: False, 'orange': [2, 3, 4], None: 'True'}\n"
     ]
    }
   ],
   "source": [
    "pairs = {1: \"apple\", \"orange\": [2, 3, 4],  True: False, None: \"True\"}  \n",
    "print(pairs)"
   ]
  },
  {
   "cell_type": "code",
   "execution_count": 34,
   "id": "feb6def7",
   "metadata": {},
   "outputs": [
    {
     "data": {
      "text/plain": [
       "dict_items([('Name', 'Fayçal'), ('Num', '0541127142'), ('@Mail', 'elmoubarek.faycal@gmail.com')])"
      ]
     },
     "execution_count": 34,
     "metadata": {},
     "output_type": "execute_result"
    }
   ],
   "source": [
    "Dict.items()"
   ]
  },
  {
   "cell_type": "code",
   "execution_count": 41,
   "id": "e63b7ba3",
   "metadata": {},
   "outputs": [
    {
     "name": "stdout",
     "output_type": "stream",
     "text": [
      "['24', '11', '1995']\n"
     ]
    }
   ],
   "source": [
    "#using lambda\n",
    "\n",
    "function = lambda x : x.split('/')\n",
    "Date = '24/11/1959'\n",
    "print(function(Date))\n",
    "#using map and lambda\n",
    "\n"
   ]
  },
  {
   "cell_type": "code",
   "execution_count": 49,
   "id": "ac6f5cf4",
   "metadata": {},
   "outputs": [
    {
     "name": "stdout",
     "output_type": "stream",
     "text": [
      "Nesrine Attack !!!\n",
      " Dammage 7.5 \n",
      " Fayçal's Health = 92.5\n",
      "\n",
      " \n",
      " \n",
      "\n",
      "Nesrine Attack !!!\n",
      " Dammage 7.5 \n",
      " Fayçal's Health = 85.0\n",
      "\n",
      " \n",
      " \n",
      "\n",
      "Fayçal Attack !!!\n",
      " Dammage 17.5 \n",
      " Nesrine's Health = 82.5\n",
      "\n",
      " \n",
      " \n",
      "\n",
      "Fayçal Attack !!!\n",
      " Dammage 17.5 \n",
      " Nesrine's Health = 65.0\n",
      "\n",
      " \n",
      " \n",
      "\n",
      "Fayçal Attack !!!\n",
      " Dammage 17.5 \n",
      " Nesrine's Health = 47.5\n",
      "\n",
      " \n",
      " \n",
      "\n",
      "Nesrine Attack !!!\n",
      " Dammage 7.5 \n",
      " Fayçal's Health = 77.5\n",
      "\n",
      " \n",
      " \n",
      "\n",
      "Nesrine Attack !!!\n",
      " Dammage 7.5 \n",
      " Fayçal's Health = 70.0\n",
      "\n",
      " \n",
      " \n",
      "\n",
      "Fayçal Attack !!!\n",
      " Dammage 17.5 \n",
      " Nesrine's Health = 30.0\n",
      "\n",
      " \n",
      " \n",
      "\n",
      "Nesrine Attack !!!\n",
      " Dammage 7.5 \n",
      " Fayçal's Health = 62.5\n",
      "\n",
      " \n",
      " \n",
      "\n",
      "Fayçal Attack !!!\n",
      " Dammage 17.5 \n",
      " Nesrine's Health = 12.5\n",
      "\n",
      " \n",
      " \n",
      "\n",
      "Fayçal Attack !!!\n",
      " Dammage 17.5 \n",
      " Nesrine's Health = -5.0\n",
      "\n",
      " \n",
      " \n",
      "\n",
      " Nesrine is dead.\n",
      " Fayçal Wins !!!\n"
     ]
    }
   ],
   "source": [
    "class Player:\n",
    "    \n",
    "    def __init__(self, name, health, power):\n",
    "        self.name = name\n",
    "        self.health = health\n",
    "        self.power = power\n",
    "    \n",
    "    def show(self):\n",
    "        print(\"Player Name = \",self.name,\"\\n\"+\n",
    "              \"Health = \",self.health,\"\\n\"+\n",
    "              \"Power = \",self.power)\n",
    "    \n",
    "    def attack(self, player):\n",
    "        player.health = player.health - (self.power/2)\n",
    "        print(\" Dammage\",(self.power/2),\"\\n\",player.name+ \"'s Health =\",player.health)\n",
    "\n",
    "Player1 =Player('Fayçal',100, 35)\n",
    "Player2 =Player('Nesrine',100, 15)\n",
    "Players = [Player1,Player2]\n",
    "\n",
    "import random\n",
    "game = True\n",
    "i=0\n",
    "while(game):\n",
    "    random.shuffle(Players)\n",
    "    print(Players[0].name + ' Attack !!!')\n",
    "    Players[0].attack(Players[1])\n",
    "    print('\\n \\n \\n')\n",
    "    if(Players[0].health <0):\n",
    "        print('',Players[0].name,'is dead.\\n',Players[1].name,'Wins !!!')\n",
    "        game=False\n",
    "    elif(Players[1].health <0):\n",
    "        print('',Players[1].name,'is dead.\\n',Players[0].name,'Wins !!!')\n",
    "        game=False"
   ]
  },
  {
   "cell_type": "code",
   "execution_count": null,
   "id": "40687d5a",
   "metadata": {},
   "outputs": [],
   "source": []
  }
 ],
 "metadata": {
  "kernelspec": {
   "display_name": "Python 3 (ipykernel)",
   "language": "python",
   "name": "python3"
  },
  "language_info": {
   "codemirror_mode": {
    "name": "ipython",
    "version": 3
   },
   "file_extension": ".py",
   "mimetype": "text/x-python",
   "name": "python",
   "nbconvert_exporter": "python",
   "pygments_lexer": "ipython3",
   "version": "3.9.7"
  }
 },
 "nbformat": 4,
 "nbformat_minor": 5
}
